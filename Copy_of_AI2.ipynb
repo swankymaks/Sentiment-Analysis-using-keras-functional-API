{
  "nbformat": 4,
  "nbformat_minor": 0,
  "metadata": {
    "colab": {
      "name": "Copy of AI2.ipynb",
      "provenance": [],
      "collapsed_sections": [],
      "include_colab_link": true
    },
    "kernelspec": {
      "name": "python3",
      "display_name": "Python 3"
    }
  },
  "cells": [
    {
      "cell_type": "markdown",
      "metadata": {
        "id": "view-in-github",
        "colab_type": "text"
      },
      "source": [
        "<a href=\"https://colab.research.google.com/github/swankymaks/Sentiment-Analysis-using-keras-functional-API/blob/master/Copy_of_AI2.ipynb\" target=\"_parent\"><img src=\"https://colab.research.google.com/assets/colab-badge.svg\" alt=\"Open In Colab\"/></a>"
      ]
    },
    {
      "cell_type": "code",
      "metadata": {
        "id": "-xi41yJtDZUj",
        "colab_type": "code",
        "outputId": "06edfa20-9472-4f98-d489-0dfdba4d033b",
        "colab": {
          "base_uri": "https://localhost:8080/",
          "height": 80
        }
      },
      "source": [
        "from numpy import array\n",
        "from keras.preprocessing.text import one_hot\n",
        "from keras.preprocessing.sequence import pad_sequences\n",
        "from keras.models import Sequential\n",
        "from keras.layers.core import Activation, Dropout, Dense\n",
        "from keras.layers import Flatten, LSTM\n",
        "from keras.layers import GlobalMaxPooling1D\n",
        "from keras.models import Model\n",
        "from keras.layers.embeddings import Embedding\n",
        "from sklearn.model_selection import train_test_split\n",
        "from keras.preprocessing.text import Tokenizer\n",
        "from keras.layers import Input\n",
        "from keras.layers.merge import Concatenate\n",
        "\n",
        "import pandas as pd\n",
        "import numpy as np\n",
        "import re"
      ],
      "execution_count": 0,
      "outputs": [
        {
          "output_type": "stream",
          "text": [
            "Using TensorFlow backend.\n"
          ],
          "name": "stderr"
        },
        {
          "output_type": "display_data",
          "data": {
            "text/html": [
              "<p style=\"color: red;\">\n",
              "The default version of TensorFlow in Colab will soon switch to TensorFlow 2.x.<br>\n",
              "We recommend you <a href=\"https://www.tensorflow.org/guide/migrate\" target=\"_blank\">upgrade</a> now \n",
              "or ensure your notebook will continue to use TensorFlow 1.x via the <code>%tensorflow_version 1.x</code> magic:\n",
              "<a href=\"https://colab.research.google.com/notebooks/tensorflow_version.ipynb\" target=\"_blank\">more info</a>.</p>\n"
            ],
            "text/plain": [
              "<IPython.core.display.HTML object>"
            ]
          },
          "metadata": {
            "tags": []
          }
        }
      ]
    },
    {
      "cell_type": "code",
      "metadata": {
        "id": "K1pt_XWcS3oC",
        "colab_type": "code",
        "outputId": "81e3f504-386c-482a-dff6-676c062d6884",
        "colab": {
          "base_uri": "https://localhost:8080/",
          "height": 536
        }
      },
      "source": [
        "!pip show tensorflow"
      ],
      "execution_count": 0,
      "outputs": [
        {
          "output_type": "stream",
          "text": [
            "Name: tensorflow\n",
            "Version: 1.15.0\n",
            "Summary: TensorFlow is an open source machine learning framework for everyone.\n",
            "Home-page: https://www.tensorflow.org/\n",
            "Author: Google Inc.\n",
            "Author-email: packages@tensorflow.org\n",
            "License: Apache 2.0\n",
            "Location: /usr/local/lib/python3.6/dist-packages\n",
            "Requires: gast, keras-applications, protobuf, tensorboard, absl-py, numpy, opt-einsum, keras-preprocessing, six, termcolor, grpcio, wheel, wrapt, astor, google-pasta, tensorflow-estimator\n",
            "Required-by: stable-baselines, magenta, fancyimpute\n"
          ],
          "name": "stdout"
        }
      ]
    },
    {
      "cell_type": "code",
      "metadata": {
        "id": "2f1ESoipLpyi",
        "colab_type": "code",
        "outputId": "a9a9894e-a340-40ec-e9c5-638be5ee8d14",
        "colab": {
          "base_uri": "https://localhost:8080/",
          "height": 334
        }
      },
      "source": [
        "from google.colab import drive \n",
        "drive.mount('/content/gdrive')"
      ],
      "execution_count": 0,
      "outputs": [
        {
          "output_type": "stream",
          "text": [
            "Drive already mounted at /content/gdrive; to attempt to forcibly remount, call drive.mount(\"/content/gdrive\", force_remount=True).\n"
          ],
          "name": "stdout"
        }
      ]
    },
    {
      "cell_type": "code",
      "metadata": {
        "id": "Pqwv4vPYRdLd",
        "colab_type": "code",
        "colab": {}
      },
      "source": [
        "import pandas as pd \n",
        "data=pd.read_csv('gdrive/My Drive/yelp_review.csv')"
      ],
      "execution_count": 0,
      "outputs": []
    },
    {
      "cell_type": "code",
      "metadata": {
        "id": "SRpwpbbHVmzW",
        "colab_type": "code",
        "colab": {}
      },
      "source": [
        "yelp_data= data[:4000]"
      ],
      "execution_count": 0,
      "outputs": []
    },
    {
      "cell_type": "code",
      "metadata": {
        "id": "0dgivNJNVy3Q",
        "colab_type": "code",
        "colab": {}
      },
      "source": [
        "yelp_data.head(10)"
      ],
      "execution_count": 0,
      "outputs": []
    },
    {
      "cell_type": "code",
      "metadata": {
        "id": "k_mqoJbcWD-J",
        "colab_type": "code",
        "outputId": "04fe4f73-ad78-40a1-e14e-37bde5b99b58",
        "colab": {
          "base_uri": "https://localhost:8080/",
          "height": 34
        }
      },
      "source": [
        "yelp_data.shape"
      ],
      "execution_count": 0,
      "outputs": [
        {
          "output_type": "execute_result",
          "data": {
            "text/plain": [
              "(4000, 9)"
            ]
          },
          "metadata": {
            "tags": []
          },
          "execution_count": 8
        }
      ]
    },
    {
      "cell_type": "markdown",
      "metadata": {
        "id": "M30SAMe-WNvN",
        "colab_type": "text"
      },
      "source": [
        "Converting the numerical values for the reviews into categorical ones and add a new column \"reviews_score\" to the dataset. Stars rating column. if stars =4 or 5,reviews score is classified as good if stars = 2 0r 3, reviews score is classified as average if stars = 1, reviews score is classified as bad."
      ]
    },
    {
      "cell_type": "code",
      "metadata": {
        "id": "HBnvWCpPWHhF",
        "colab_type": "code",
        "outputId": "9a6ac386-3e4a-44a9-a728-562fcf24a905",
        "colab": {
          "base_uri": "https://localhost:8080/",
          "height": 399
        }
      },
      "source": [
        "#preprocessing\n",
        "bins = [0,1,3,5]\n",
        "names = ['bad', 'average', 'good']\n",
        "yelp_data['reviews_score'] = pd.cut(yelp_data['stars'], bins, labels=names)"
      ],
      "execution_count": 0,
      "outputs": [
        {
          "output_type": "stream",
          "text": [
            "/usr/local/lib/python3.6/dist-packages/ipykernel_launcher.py:3: SettingWithCopyWarning: \n",
            "A value is trying to be set on a copy of a slice from a DataFrame.\n",
            "Try using .loc[row_indexer,col_indexer] = value instead\n",
            "\n",
            "See the caveats in the documentation: http://pandas.pydata.org/pandas-docs/stable/user_guide/indexing.html#returning-a-view-versus-a-copy\n",
            "  This is separate from the ipykernel package so we can avoid doing imports until\n"
          ],
          "name": "stderr"
        }
      ]
    },
    {
      "cell_type": "code",
      "metadata": {
        "id": "AmWvaozoWHt7",
        "colab_type": "code",
        "outputId": "b05adac6-faae-4b69-a35a-2a7f79cc2be1",
        "colab": {
          "base_uri": "https://localhost:8080/",
          "height": 807
        }
      },
      "source": [
        "#removing null values\n",
        "yelp_data.isnull().values.any()#removing null values\n",
        "print(yelp_data.shape)#looking at the dimension of our data\n",
        "yelp_data.head()#viewing he first few columns of the data"
      ],
      "execution_count": 0,
      "outputs": [
        {
          "output_type": "stream",
          "text": [
            "(4000, 10)\n"
          ],
          "name": "stdout"
        },
        {
          "output_type": "execute_result",
          "data": {
            "text/html": [
              "<div>\n",
              "<style scoped>\n",
              "    .dataframe tbody tr th:only-of-type {\n",
              "        vertical-align: middle;\n",
              "    }\n",
              "\n",
              "    .dataframe tbody tr th {\n",
              "        vertical-align: top;\n",
              "    }\n",
              "\n",
              "    .dataframe thead th {\n",
              "        text-align: right;\n",
              "    }\n",
              "</style>\n",
              "<table border=\"1\" class=\"dataframe\">\n",
              "  <thead>\n",
              "    <tr style=\"text-align: right;\">\n",
              "      <th></th>\n",
              "      <th>review_id</th>\n",
              "      <th>user_id</th>\n",
              "      <th>business_id</th>\n",
              "      <th>stars</th>\n",
              "      <th>date</th>\n",
              "      <th>text</th>\n",
              "      <th>useful</th>\n",
              "      <th>funny</th>\n",
              "      <th>cool</th>\n",
              "      <th>reviews_score</th>\n",
              "    </tr>\n",
              "  </thead>\n",
              "  <tbody>\n",
              "    <tr>\n",
              "      <th>0</th>\n",
              "      <td>vkVSCC7xljjrAI4UGfnKEQ</td>\n",
              "      <td>bv2nCi5Qv5vroFiqKGopiw</td>\n",
              "      <td>AEx2SYEUJmTxVVB18LlCwA</td>\n",
              "      <td>5</td>\n",
              "      <td>2016-05-28</td>\n",
              "      <td>Super simple place but amazing nonetheless. It...</td>\n",
              "      <td>0</td>\n",
              "      <td>0</td>\n",
              "      <td>0</td>\n",
              "      <td>good</td>\n",
              "    </tr>\n",
              "    <tr>\n",
              "      <th>1</th>\n",
              "      <td>n6QzIUObkYshz4dz2QRJTw</td>\n",
              "      <td>bv2nCi5Qv5vroFiqKGopiw</td>\n",
              "      <td>VR6GpWIda3SfvPC-lg9H3w</td>\n",
              "      <td>5</td>\n",
              "      <td>2016-05-28</td>\n",
              "      <td>Small unassuming place that changes their menu...</td>\n",
              "      <td>0</td>\n",
              "      <td>0</td>\n",
              "      <td>0</td>\n",
              "      <td>good</td>\n",
              "    </tr>\n",
              "    <tr>\n",
              "      <th>2</th>\n",
              "      <td>MV3CcKScW05u5LVfF6ok0g</td>\n",
              "      <td>bv2nCi5Qv5vroFiqKGopiw</td>\n",
              "      <td>CKC0-MOWMqoeWf6s-szl8g</td>\n",
              "      <td>5</td>\n",
              "      <td>2016-05-28</td>\n",
              "      <td>Lester's is located in a beautiful neighborhoo...</td>\n",
              "      <td>0</td>\n",
              "      <td>0</td>\n",
              "      <td>0</td>\n",
              "      <td>good</td>\n",
              "    </tr>\n",
              "    <tr>\n",
              "      <th>3</th>\n",
              "      <td>IXvOzsEMYtiJI0CARmj77Q</td>\n",
              "      <td>bv2nCi5Qv5vroFiqKGopiw</td>\n",
              "      <td>ACFtxLv8pGrrxMm6EgjreA</td>\n",
              "      <td>4</td>\n",
              "      <td>2016-05-28</td>\n",
              "      <td>Love coming here. Yes the place always needs t...</td>\n",
              "      <td>0</td>\n",
              "      <td>0</td>\n",
              "      <td>0</td>\n",
              "      <td>good</td>\n",
              "    </tr>\n",
              "    <tr>\n",
              "      <th>4</th>\n",
              "      <td>L_9BTb55X0GDtThi6GlZ6w</td>\n",
              "      <td>bv2nCi5Qv5vroFiqKGopiw</td>\n",
              "      <td>s2I_Ni76bjJNK9yG60iD-Q</td>\n",
              "      <td>4</td>\n",
              "      <td>2016-05-28</td>\n",
              "      <td>Had their chocolate almond croissant and it wa...</td>\n",
              "      <td>0</td>\n",
              "      <td>0</td>\n",
              "      <td>0</td>\n",
              "      <td>good</td>\n",
              "    </tr>\n",
              "  </tbody>\n",
              "</table>\n",
              "</div>"
            ],
            "text/plain": [
              "                review_id                 user_id  ... cool  reviews_score\n",
              "0  vkVSCC7xljjrAI4UGfnKEQ  bv2nCi5Qv5vroFiqKGopiw  ...    0           good\n",
              "1  n6QzIUObkYshz4dz2QRJTw  bv2nCi5Qv5vroFiqKGopiw  ...    0           good\n",
              "2  MV3CcKScW05u5LVfF6ok0g  bv2nCi5Qv5vroFiqKGopiw  ...    0           good\n",
              "3  IXvOzsEMYtiJI0CARmj77Q  bv2nCi5Qv5vroFiqKGopiw  ...    0           good\n",
              "4  L_9BTb55X0GDtThi6GlZ6w  bv2nCi5Qv5vroFiqKGopiw  ...    0           good\n",
              "\n",
              "[5 rows x 10 columns]"
            ]
          },
          "metadata": {
            "tags": []
          },
          "execution_count": 10
        }
      ]
    },
    {
      "cell_type": "markdown",
      "metadata": {
        "id": "Zr_TJNxteiVf",
        "colab_type": "text"
      },
      "source": [
        "The dataframe now contains 10 columns including the newly added reviews_score column. The text column contains the text of the review while the useful column contains numerical value that represents the count of the people who found the review useful. The funny and cool columns contain the counts of people who found reviews funny or cool, respectively.\n"
      ]
    },
    {
      "cell_type": "code",
      "metadata": {
        "id": "0CFZw9lUWH3d",
        "colab_type": "code",
        "outputId": "78fc56f1-b41b-4c10-fe8c-44763868a4b1",
        "colab": {
          "base_uri": "https://localhost:8080/",
          "height": 297
        }
      },
      "source": [
        "#visualising review score column\n",
        "import seaborn as sns\n",
        "sns.countplot(x='reviews_score', data=yelp_data)"
      ],
      "execution_count": 0,
      "outputs": [
        {
          "output_type": "execute_result",
          "data": {
            "text/plain": [
              "<matplotlib.axes._subplots.AxesSubplot at 0x7f9762106a90>"
            ]
          },
          "metadata": {
            "tags": []
          },
          "execution_count": 11
        },
        {
          "output_type": "display_data",
          "data": {
            "image/png": "[encoded data removed]",
            "text/plain": [
              "<Figure size 432x288 with 1 Axes>"
            ]
          },
          "metadata": {
            "tags": []
          }
        }
      ]
    },
    {
      "cell_type": "code",
      "metadata": {
        "id": "EMw7LMUWWH_p",
        "colab_type": "code",
        "outputId": "34a2f7b7-fcf4-4594-e7ec-b35cb761d8ea",
        "colab": {
          "base_uri": "https://localhost:8080/",
          "height": 85
        }
      },
      "source": [
        "yelp_data['reviews_score'].value_counts().sort_values(ascending=False)"
      ],
      "execution_count": 0,
      "outputs": [
        {
          "output_type": "execute_result",
          "data": {
            "text/plain": [
              "good       2555\n",
              "average    1126\n",
              "bad         319\n",
              "Name: reviews_score, dtype: int64"
            ]
          },
          "metadata": {
            "tags": []
          },
          "execution_count": 12
        }
      ]
    },
    {
      "cell_type": "markdown",
      "metadata": {
        "id": "iu35hyTItB_6",
        "colab_type": "text"
      },
      "source": [
        ""
      ]
    },
    {
      "cell_type": "markdown",
      "metadata": {
        "id": "vddnb36otEIv",
        "colab_type": "text"
      },
      "source": [
        "About 67,000 people gave good reviews,around 20,000 gave average reviews and about 13,000 gave bad reviews.\n"
      ]
    },
    {
      "cell_type": "markdown",
      "metadata": {
        "id": "iIJmWm8FtMqo",
        "colab_type": "text"
      },
      "source": [
        "Using Keras Functional API to create a model with multiple input\n"
      ]
    },
    {
      "cell_type": "code",
      "metadata": {
        "id": "WcUMLfqJWIGr",
        "colab_type": "code",
        "colab": {}
      },
      "source": [
        "#seperating the target variable from the feature variables\n",
        "X = yelp_data.drop('reviews_score', axis=1)#feature variables\n",
        "y = yelp_data['reviews_score']#target column"
      ],
      "execution_count": 0,
      "outputs": []
    },
    {
      "cell_type": "markdown",
      "metadata": {
        "id": "-xcc4WEMtX3_",
        "colab_type": "text"
      },
      "source": [
        "VECTORIZING\n"
      ]
    },
    {
      "cell_type": "code",
      "metadata": {
        "id": "gKL1YppVWIKK",
        "colab_type": "code",
        "colab": {}
      },
      "source": [
        "\n",
        "from sklearn import preprocessing\n",
        "\n",
        "# label_encoder object knows how to understand word labels.\n",
        "label_encoder = preprocessing.LabelEncoder()\n",
        "\n",
        "# Encode labels in column 'species'.\n",
        "y = label_encoder.fit_transform(y)\n",
        "\n",
        "X_train, X_test, y_train, y_test = train_test_split(X, y, test_size=0.20, random_state=1)\n",
        "\n",
        "from keras.utils import to_categorical\n",
        "y_train = to_categorical(y_train) #splitting the target column\n",
        "y_test = to_categorical(y_test)"
      ],
      "execution_count": 0,
      "outputs": []
    },
    {
      "cell_type": "markdown",
      "metadata": {
        "id": "jRLcEmC7tiLg",
        "colab_type": "text"
      },
      "source": [
        "### preprocessing the feature variables\n",
        "i will filter all the text reviews and store them in the list. The text reviews will be cleaned using the preprocess_text function, which removes punctuations and numbers from the text."
      ]
    },
    {
      "cell_type": "code",
      "metadata": {
        "id": "oQ5xGPyiWIWZ",
        "colab_type": "code",
        "colab": {}
      },
      "source": [
        "def preprocess_text(sen):\n",
        "\n",
        "    # Remove punctuations and numbers\n",
        "    sentence = re.sub('[^a-zA-Z]', ' ', sen)\n",
        "\n",
        "    # Single character removal\n",
        "    sentence = re.sub(r\"\\s+[a-zA-Z]\\s+\", ' ', sentence)\n",
        "\n",
        "    # Removing multiple spaces\n",
        "    sentence = re.sub(r'\\s+', ' ', sentence)\n",
        "\n",
        "    return sentence"
      ],
      "execution_count": 0,
      "outputs": []
    },
    {
      "cell_type": "markdown",
      "metadata": {
        "id": "qd3AUcR7ttHA",
        "colab_type": "text"
      },
      "source": [
        "Creating textual input for the training and test set"
      ]
    },
    {
      "cell_type": "code",
      "metadata": {
        "id": "Fd3fI_6nWIaL",
        "colab_type": "code",
        "colab": {}
      },
      "source": [
        "X1_train = []\n",
        "sentences = list(X_train[\"text\"])\n",
        "for sen in sentences:\n",
        "    X1_train.append(preprocess_text(sen))\n",
        "    \n",
        "X1_test = []\n",
        "sentences = list(X_test[\"text\"])\n",
        "for sen in sentences:\n",
        "    X1_test.append(preprocess_text(sen)) "
      ],
      "execution_count": 0,
      "outputs": []
    },
    {
      "cell_type": "markdown",
      "metadata": {
        "id": "nMceLTGatx9S",
        "colab_type": "text"
      },
      "source": [
        "Converting textual input for the training and test sets into numeric form using word embeddings"
      ]
    },
    {
      "cell_type": "code",
      "metadata": {
        "id": "e9KZjzpwWIdA",
        "colab_type": "code",
        "colab": {}
      },
      "source": [
        "tokenizer = Tokenizer(num_words=500)\n",
        "tokenizer.fit_on_texts(X1_train)\n",
        "\n",
        "X1_train = tokenizer.texts_to_sequences(X1_train)\n",
        "X1_test = tokenizer.texts_to_sequences(X1_test)\n",
        "\n",
        "vocab_size = len(tokenizer.word_index) + 1\n",
        "\n",
        "maxlen = 200\n",
        "\n",
        "X1_train = pad_sequences(X1_train, padding='post', maxlen=maxlen)\n",
        "X1_test = pad_sequences(X1_test, padding='post', maxlen=maxlen)"
      ],
      "execution_count": 0,
      "outputs": []
    },
    {
      "cell_type": "code",
      "metadata": {
        "id": "mTR75EHuoZln",
        "colab_type": "code",
        "outputId": "40e3f93a-8e1a-4d8a-9ab7-332e81476b64",
        "colab": {
          "base_uri": "https://localhost:8080/",
          "height": 570
        }
      },
      "source": [
        "! pip install glove_python"
      ],
      "execution_count": 0,
      "outputs": [
        {
          "output_type": "stream",
          "text": [
            "Collecting glove_python\n",
            "\u001b[?25l  Downloading https://files.pythonhosted.org/packages/3e/79/7e7e548dd9dcb741935d031117f4bed133276c2a047aadad42f1552d1771/glove_python-0.1.0.tar.gz (263kB)\n",
            "\r\u001b[K     |█▎                              | 10kB 6.3MB/s eta 0:00:01\r\u001b[K     |██▌                             | 20kB 1.8MB/s eta 0:00:01\r\u001b[K     |███▊                            | 30kB 2.7MB/s eta 0:00:01\r\u001b[K     |█████                           | 40kB 1.8MB/s eta 0:00:01\r\u001b[K     |██████▎                         | 51kB 2.2MB/s eta 0:00:01\r\u001b[K     |███████▌                        | 61kB 2.6MB/s eta 0:00:01\r\u001b[K     |████████▊                       | 71kB 3.0MB/s eta 0:00:01\r\u001b[K     |██████████                      | 81kB 3.4MB/s eta 0:00:01\r\u001b[K     |███████████▏                    | 92kB 3.8MB/s eta 0:00:01\r\u001b[K     |████████████▌                   | 102kB 2.9MB/s eta 0:00:01\r\u001b[K     |█████████████▊                  | 112kB 2.9MB/s eta 0:00:01\r\u001b[K     |███████████████                 | 122kB 2.9MB/s eta 0:00:01\r\u001b[K     |████████████████▏               | 133kB 2.9MB/s eta 0:00:01\r\u001b[K     |█████████████████▍              | 143kB 2.9MB/s eta 0:00:01\r\u001b[K     |██████████████████▊             | 153kB 2.9MB/s eta 0:00:01\r\u001b[K     |████████████████████            | 163kB 2.9MB/s eta 0:00:01\r\u001b[K     |█████████████████████▏          | 174kB 2.9MB/s eta 0:00:01\r\u001b[K     |██████████████████████▍         | 184kB 2.9MB/s eta 0:00:01\r\u001b[K     |███████████████████████▋        | 194kB 2.9MB/s eta 0:00:01\r\u001b[K     |█████████████████████████       | 204kB 2.9MB/s eta 0:00:01\r\u001b[K     |██████████████████████████▏     | 215kB 2.9MB/s eta 0:00:01\r\u001b[K     |███████████████████████████▍    | 225kB 2.9MB/s eta 0:00:01\r\u001b[K     |████████████████████████████▋   | 235kB 2.9MB/s eta 0:00:01\r\u001b[K     |█████████████████████████████▉  | 245kB 2.9MB/s eta 0:00:01\r\u001b[K     |███████████████████████████████▏| 256kB 2.9MB/s eta 0:00:01\r\u001b[K     |████████████████████████████████| 266kB 2.9MB/s \n",
            "\u001b[?25hRequirement already satisfied: numpy in /usr/local/lib/python3.6/dist-packages (from glove_python) (1.17.5)\n",
            "Requirement already satisfied: scipy in /usr/local/lib/python3.6/dist-packages (from glove_python) (1.4.1)\n",
            "Building wheels for collected packages: glove-python\n",
            "  Building wheel for glove-python (setup.py) ... \u001b[?25l\u001b[?25hdone\n",
            "  Created wheel for glove-python: filename=glove_python-0.1.0-cp36-cp36m-linux_x86_64.whl size=700299 sha256=06ae3d7de5b7317e190bbef5c04430c38bb6e6af3dd54c3beca56b44e23348fc\n",
            "  Stored in directory: /root/.cache/pip/wheels/88/4b/6d/10c0d2ad32c9d9d68beec9694a6f0b6e83ab1662a90a089a4b\n",
            "Successfully built glove-python\n",
            "Installing collected packages: glove-python\n",
            "Successfully installed glove-python-0.1.0\n"
          ],
          "name": "stdout"
        }
      ]
    },
    {
      "cell_type": "code",
      "metadata": {
        "id": "wubxyKLJowJ1",
        "colab_type": "code",
        "colab": {}
      },
      "source": [
        "import glove"
      ],
      "execution_count": 0,
      "outputs": []
    },
    {
      "cell_type": "code",
      "metadata": {
        "id": "7lFM57px4EVm",
        "colab_type": "code",
        "outputId": "c152b63f-0800-4dd7-c398-05c7c95719b3",
        "colab": {
          "base_uri": "https://localhost:8080/",
          "height": 314
        }
      },
      "source": [
        "from google.colab import drive \n",
        "drive.mount('/content/gdrive')"
      ],
      "execution_count": 0,
      "outputs": [
        {
          "output_type": "stream",
          "text": [
            "Drive already mounted at /content/gdrive; to attempt to forcibly remount, call drive.mount(\"/content/gdrive\", force_remount=True).\n"
          ],
          "name": "stdout"
        }
      ]
    },
    {
      "cell_type": "code",
      "metadata": {
        "id": "w4bC1XxglVHL",
        "colab_type": "code",
        "colab": {}
      },
      "source": [
        ""
      ],
      "execution_count": 0,
      "outputs": []
    },
    {
      "cell_type": "code",
      "metadata": {
        "id": "ftffgh_eWIf4",
        "colab_type": "code",
        "colab": {}
      },
      "source": [
        "#creating word embeddings with GloVe\n",
        "from numpy import array\n",
        "from numpy import asarray\n",
        "from numpy import zeros\n",
        "import io\n",
        "\n",
        "embeddings_dictionary = dict()\n",
        "\n",
        "\n",
        "with io.open('/content/gdrive/My Drive/glove.6B.100d.txt', encoding='utf8') as glove_file:\n",
        "  for line in glove_file:\n",
        "    records = line.split()\n",
        "    word = records[0]\n",
        "    vector_dimensions = asarray(records[1:], dtype='float32')\n",
        "    embeddings_dictionary[word] = vector_dimensions\n",
        "\n",
        "glove_file.close()\n",
        "\n",
        "embedding_matrix = zeros((vocab_size, 100))\n",
        "for word, index in tokenizer.word_index.items():\n",
        "    embedding_vector = embeddings_dictionary.get(word)\n",
        "    if embedding_vector is not None:\n",
        "        embedding_matrix[index] = embedding_vector\n",
        "\n"
      ],
      "execution_count": 0,
      "outputs": []
    },
    {
      "cell_type": "markdown",
      "metadata": {
        "id": "M4-llMU-uCjx",
        "colab_type": "text"
      },
      "source": [
        "Creating meta input for training and test"
      ]
    },
    {
      "cell_type": "code",
      "metadata": {
        "id": "JxA7XRK9WIiv",
        "colab_type": "code",
        "colab": {}
      },
      "source": [
        "X2_train = X_train[['useful', 'funny', 'cool']].values\n",
        "X2_test = X_test[['useful', 'funny', 'cool']].values"
      ],
      "execution_count": 0,
      "outputs": []
    },
    {
      "cell_type": "markdown",
      "metadata": {
        "id": "py8ACuJvuHR8",
        "colab_type": "text"
      },
      "source": [
        "Creating the two input layers and submodels and the multi-input model"
      ]
    },
    {
      "cell_type": "code",
      "metadata": {
        "id": "a-7S6MBc4FGz",
        "colab_type": "code",
        "colab": {}
      },
      "source": [
        "from keras import models\n",
        "from keras import layers"
      ],
      "execution_count": 0,
      "outputs": []
    },
    {
      "cell_type": "code",
      "metadata": {
        "id": "D29slZ14WIlT",
        "colab_type": "code",
        "colab": {}
      },
      "source": [
        "\n",
        "text_input = Input(shape=(maxlen,))#input shape set to the length of the input sentence \n",
        "metadata_input = Input(shape=(3,)) #set to the three metadata columns...\n",
        "\n",
        "embedding_layer = layers.Embedding(vocab_size, 100, weights=[embedding_matrix], trainable=False)(text_input)#embedded text in first submodel, accepts input1\n",
        "LSTM_Layer_1 = layers.LSTM(128)(embedding_layer)# A LSTM will transform the vector sequence into a single vector\n",
        "# containing information about the entire sequence\n",
        "\n",
        "dense_layer_1 = layers.Dense(10, activation='relu')(metadata_input) #numerical second submodel accepts input2\n",
        "dense_layer_2 = layers.Dense(10, activation='relu')(dense_layer_1)\n",
        "\n",
        "concatenated = layers.concatenate([LSTM_Layer_1, dense_layer_2],axis=-1)\n",
        "\n",
        "\n",
        "#classifier\n",
        "dense_layer_3 = layers.Dense(10, activation='relu')(concatenated)#to allowing the LSTM and Embedding layer to be trained smoothly even though the main loss will be much higher in the model.\n",
        "\n",
        "output_dropout = layers.Dropout(0.2)(dense_layer_3)\n",
        "answer = Dense(3, activation='softmax')(output_dropout)\n"
      ],
      "execution_count": 0,
      "outputs": []
    },
    {
      "cell_type": "code",
      "metadata": {
        "id": "VRwjSudp0Uye",
        "colab_type": "code",
        "colab": {}
      },
      "source": [
        "#final model\n",
        "model = Model([text_input, metadata_input],answer)"
      ],
      "execution_count": 0,
      "outputs": []
    },
    {
      "cell_type": "code",
      "metadata": {
        "id": "wco_Qqn0WIoS",
        "colab_type": "code",
        "outputId": "ebd7ed48-7171-4b68-f5f7-6646ac4f2534",
        "colab": {
          "base_uri": "https://localhost:8080/",
          "height": 527
        }
      },
      "source": [
        "model.compile(loss='categorical_crossentropy', optimizer='adam', metrics=['acc'])\n",
        "print(model.summary())"
      ],
      "execution_count": 0,
      "outputs": [
        {
          "output_type": "stream",
          "text": [
            "Model: \"model_1\"\n",
            "__________________________________________________________________________________________________\n",
            "Layer (type)                    Output Shape         Param #     Connected to                     \n",
            "==================================================================================================\n",
            "input_3 (InputLayer)            (None, 200)          0                                            \n",
            "__________________________________________________________________________________________________\n",
            "input_4 (InputLayer)            (None, 3)            0                                            \n",
            "__________________________________________________________________________________________________\n",
            "embedding_2 (Embedding)         (None, 200, 100)     1776900     input_3[0][0]                    \n",
            "__________________________________________________________________________________________________\n",
            "dense_5 (Dense)                 (None, 10)           40          input_4[0][0]                    \n",
            "__________________________________________________________________________________________________\n",
            "lstm_2 (LSTM)                   (None, 128)          117248      embedding_2[0][0]                \n",
            "__________________________________________________________________________________________________\n",
            "dense_6 (Dense)                 (None, 10)           110         dense_5[0][0]                    \n",
            "__________________________________________________________________________________________________\n",
            "concatenate_2 (Concatenate)     (None, 138)          0           lstm_2[0][0]                     \n",
            "                                                                 dense_6[0][0]                    \n",
            "__________________________________________________________________________________________________\n",
            "dense_7 (Dense)                 (None, 10)           1390        concatenate_2[0][0]              \n",
            "__________________________________________________________________________________________________\n",
            "dropout_2 (Dropout)             (None, 10)           0           dense_7[0][0]                    \n",
            "__________________________________________________________________________________________________\n",
            "dense_8 (Dense)                 (None, 3)            33          dropout_2[0][0]                  \n",
            "==================================================================================================\n",
            "Total params: 1,895,721\n",
            "Trainable params: 118,821\n",
            "Non-trainable params: 1,776,900\n",
            "__________________________________________________________________________________________________\n",
            "None\n"
          ],
          "name": "stdout"
        }
      ]
    },
    {
      "cell_type": "markdown",
      "metadata": {
        "id": "QwH8l6hbuYNe",
        "colab_type": "text"
      },
      "source": [
        "Network Model Plot"
      ]
    },
    {
      "cell_type": "code",
      "metadata": {
        "id": "cW-z6LXbuVIo",
        "colab_type": "code",
        "outputId": "41e8db4b-fc56-49c3-cc5c-0f08539a958d",
        "colab": {
          "base_uri": "https://localhost:8080/",
          "height": 754
        }
      },
      "source": [
        "from keras.utils import plot_model\n",
        "plot_model(model, to_file='model_plot3.png', show_shapes=True, show_layer_names=True)"
      ],
      "execution_count": 0,
      "outputs": [
        {
          "output_type": "execute_result",
          "data": {
            "image/png": "[encoded data removed]",
            "text/plain": [
              "<IPython.core.display.Image object>"
            ]
          },
          "metadata": {
            "tags": []
          },
          "execution_count": 41
        }
      ]
    },
    {
      "cell_type": "markdown",
      "metadata": {
        "id": "EpO9M-XLuejA",
        "colab_type": "text"
      },
      "source": [
        "FITTTING THE MODEL"
      ]
    },
    {
      "cell_type": "code",
      "metadata": {
        "id": "FFqRArjjuVMT",
        "colab_type": "code",
        "outputId": "0789ba9e-bfbf-453a-c906-30864275c728",
        "colab": {
          "base_uri": "https://localhost:8080/",
          "height": 374
        }
      },
      "source": [
        "history = model.fit(x=[X1_train, X2_train], y=y_train, batch_size=128, epochs=10, verbose=1, validation_split=0.2)"
      ],
      "execution_count": 0,
      "outputs": [
        {
          "output_type": "stream",
          "text": [
            "Train on 2560 samples, validate on 640 samples\n",
            "Epoch 1/10\n",
            "2560/2560 [==============================] - 14s 6ms/step - loss: 0.7621 - acc: 0.6809 - val_loss: 0.7837 - val_acc: 0.6578\n",
            "Epoch 2/10\n",
            "2560/2560 [==============================] - 13s 5ms/step - loss: 0.7642 - acc: 0.6773 - val_loss: 0.7949 - val_acc: 0.6531\n",
            "Epoch 3/10\n",
            "2560/2560 [==============================] - 13s 5ms/step - loss: 0.7607 - acc: 0.6797 - val_loss: 0.7873 - val_acc: 0.6484\n",
            "Epoch 4/10\n",
            "2560/2560 [==============================] - 13s 5ms/step - loss: 0.7465 - acc: 0.6824 - val_loss: 0.7823 - val_acc: 0.6547\n",
            "Epoch 5/10\n",
            "2560/2560 [==============================] - 13s 5ms/step - loss: 0.7342 - acc: 0.6871 - val_loss: 0.7908 - val_acc: 0.6562\n",
            "Epoch 6/10\n",
            "2560/2560 [==============================] - 13s 5ms/step - loss: 0.7357 - acc: 0.6859 - val_loss: 0.7851 - val_acc: 0.6500\n",
            "Epoch 7/10\n",
            "2560/2560 [==============================] - 13s 5ms/step - loss: 0.7358 - acc: 0.6848 - val_loss: 0.7994 - val_acc: 0.6453\n",
            "Epoch 8/10\n",
            "2560/2560 [==============================] - 13s 5ms/step - loss: 0.7323 - acc: 0.6836 - val_loss: 0.7977 - val_acc: 0.6484\n",
            "Epoch 9/10\n",
            "2560/2560 [==============================] - 13s 5ms/step - loss: 0.7308 - acc: 0.6859 - val_loss: 0.7993 - val_acc: 0.6547\n",
            "Epoch 10/10\n",
            "2560/2560 [==============================] - 13s 5ms/step - loss: 0.7335 - acc: 0.6832 - val_loss: 0.7889 - val_acc: 0.6500\n"
          ],
          "name": "stdout"
        }
      ]
    },
    {
      "cell_type": "code",
      "metadata": {
        "id": "WyyfBzBFI4A7",
        "colab_type": "code",
        "outputId": "0e9700e7-ae64-4c41-eb44-e70d573347a4",
        "colab": {
          "base_uri": "https://localhost:8080/",
          "height": 295
        }
      },
      "source": [
        "#Plot of the training and validation loss\n",
        "import matplotlib.pyplot as plt\n",
        "history_dict = history.history\n",
        "history_dict.keys()\n",
        "acc = history.history[\"acc\"]\n",
        "val_acc = history.history['val_acc']\n",
        "loss = history.history['loss']\n",
        "val_loss = history.history['val_loss']\n",
        "\n",
        "epochs = range(1, len(acc) + 1)\n",
        "\n",
        "plt.plot(epochs, loss, 'bo', label='Training loss')\n",
        "plt.plot(epochs, val_loss, 'b', label='Validation loss')\n",
        "plt.title('Training and validation loss')\n",
        "plt.xlabel('Epochs')\n",
        "plt.ylabel('Loss')\n",
        "plt.legend()\n",
        "\n",
        "plt.show()"
      ],
      "execution_count": 0,
      "outputs": [
        {
          "output_type": "display_data",
          "data": {
            "image/png": "[encoded data removed]",
            "text/plain": [
              "<Figure size 432x288 with 1 Axes>"
            ]
          },
          "metadata": {
            "tags": []
          }
        }
      ]
    },
    {
      "cell_type": "code",
      "metadata": {
        "id": "k1iq2xWfJMbg",
        "colab_type": "code",
        "outputId": "b688e696-f365-4b88-f14e-b6f6d6c8732f",
        "colab": {
          "base_uri": "https://localhost:8080/",
          "height": 295
        }
      },
      "source": [
        "plt.clf() \n",
        "acc = history_dict['acc'] \n",
        "val_acc = history_dict['val_acc']\n",
        "plt.plot(epochs, acc, 'bo', label='Training acc')\n",
        "plt.plot(epochs, val_acc, 'b', label='Validation acc')\n",
        "plt.title('Training and validation accuracy')\n",
        "plt.xlabel('Epochs')\n",
        "plt.ylabel('Loss')\n",
        "plt.legend()\n",
        "plt.show()"
      ],
      "execution_count": 0,
      "outputs": [
        {
          "output_type": "display_data",
          "data": {
            "image/png": "[encoded data removed]",
            "text/plain": [
              "<Figure size 432x288 with 1 Axes>"
            ]
          },
          "metadata": {
            "tags": []
          }
        }
      ]
    },
    {
      "cell_type": "code",
      "metadata": {
        "id": "zdLJhID_uVPY",
        "colab_type": "code",
        "outputId": "7ba1b641-d7fe-439f-bab3-e3b6c9417960",
        "colab": {
          "base_uri": "https://localhost:8080/",
          "height": 68
        }
      },
      "source": [
        "#evaluate the model\n",
        "score = model.evaluate(x=[X1_test, X2_test], y=y_test, verbose=1)#pass both the test inputs\n",
        "\n",
        "print(\"Test Score:\", score[0])\n",
        "print(\"Test Accuracy:\", score[1])"
      ],
      "execution_count": 0,
      "outputs": [
        {
          "output_type": "stream",
          "text": [
            "800/800 [==============================] - 2s 2ms/step\n",
            "Test Score: 0.8255264115333557\n",
            "Test Accuracy: 0.62\n"
          ],
          "name": "stdout"
        }
      ]
    },
    {
      "cell_type": "code",
      "metadata": {
        "id": "cg854ZpgJoXQ",
        "colab_type": "code",
        "outputId": "86ffe75a-0d13-40b0-8ec6-b0920e59629b",
        "colab": {
          "base_uri": "https://localhost:8080/",
          "height": 573
        }
      },
      "source": [
        "import matplotlib.pyplot as plt\n",
        "\n",
        "plt.plot(history.history['acc'])\n",
        "plt.plot(history.history['val_acc'])\n",
        "\n",
        "plt.title('model accuracy')\n",
        "plt.ylabel('accuracy')\n",
        "plt.xlabel('epoch')\n",
        "plt.legend(['train','test'], loc='upper left')\n",
        "plt.show()\n",
        "\n",
        "plt.plot(history.history['loss'])\n",
        "plt.plot(history.history['val_loss'])\n",
        "\n",
        "plt.title('model loss')\n",
        "plt.ylabel('loss')\n",
        "plt.xlabel('epoch')\n",
        "plt.legend(['train','test'], loc='upper left')\n",
        "plt.show()"
      ],
      "execution_count": 0,
      "outputs": [
        {
          "output_type": "display_data",
          "data": {
            "image/png": "[encoded data removed]",
            "text/plain": [
              "<Figure size 432x288 with 1 Axes>"
            ]
          },
          "metadata": {
            "tags": []
          }
        },
        {
          "output_type": "display_data",
          "data": {
            "image/png": "[encoded data removed]",
            "text/plain": [
              "<Figure size 432x288 with 1 Axes>"
            ]
          },
          "metadata": {
            "tags": []
          }
        }
      ]
    },
    {
      "cell_type": "markdown",
      "metadata": {
        "id": "JAlAPW8huqUK",
        "colab_type": "text"
      },
      "source": [
        "The test accuracy is 80.53%, which is slightly less than the first model that uses textual input only. This shows that meta information in yelp_reviews is not very useful for sentiment prediction.\n"
      ]
    },
    {
      "cell_type": "code",
      "metadata": {
        "id": "cExsDYphCTFG",
        "colab_type": "code",
        "colab": {}
      },
      "source": [
        "#Plot of the training and validation loss\n",
        "\n",
        "history_dict = history.history\n",
        "history_dict.keys()\n",
        "acc = history.history[\"acc\"]\n",
        "val_acc = history.history['val_acc']\n",
        "loss = history.history['loss']\n",
        "val_loss = history.history['val_loss']\n",
        "\n",
        "epochs = range(1, len(acc) + 1)\n",
        "\n",
        "plt.plot(epochs, loss, 'bo', label='Training loss')\n",
        "plt.plot(epochs, val_loss, 'b', label='Validation loss')\n",
        "plt.title('Training and validation loss')\n",
        "plt.xlabel('Epochs')\n",
        "plt.ylabel('Loss')\n",
        "plt.legend()\n",
        "\n",
        "plt.show()"
      ],
      "execution_count": 0,
      "outputs": []
    },
    {
      "cell_type": "code",
      "metadata": {
        "id": "yeQmkvZEuVSX",
        "colab_type": "code",
        "colab": {}
      },
      "source": [
        "import matplotlib.pyplot as plt\n",
        "\n",
        "plt.plot(history.history['acc'])\n",
        "plt.plot(history.history['val_acc'])\n",
        "\n",
        "plt.title('model accuracy')\n",
        "plt.ylabel('accuracy')\n",
        "plt.xlabel('epoch')\n",
        "plt.legend(['train','test'], loc='upper left')\n",
        "plt.show()\n",
        "\n",
        "plt.plot(history.history['loss'])\n",
        "plt.plot(history.history['val_loss'])\n",
        "\n",
        "plt.title('model loss')\n",
        "plt.ylabel('loss')\n",
        "plt.xlabel('epoch')\n",
        "plt.legend(['train','test'], loc='upper left')\n",
        "plt.show()"
      ],
      "execution_count": 0,
      "outputs": []
    },
    {
      "cell_type": "markdown",
      "metadata": {
        "id": "TKyUCFO7u79q",
        "colab_type": "text"
      },
      "source": [
        "The differences for loss and accuracy values is minimal between the training and test sets, this means the model is not overfitting."
      ]
    },
    {
      "cell_type": "markdown",
      "metadata": {
        "id": "e0ipbckzvMcx",
        "colab_type": "text"
      },
      "source": [
        "### Conclusion\n",
        " \n",
        "In [ ]:\n"
      ]
    },
    {
      "cell_type": "code",
      "metadata": {
        "id": "raq67N8IuVVU",
        "colab_type": "code",
        "colab": {}
      },
      "source": [
        ""
      ],
      "execution_count": 0,
      "outputs": []
    },
    {
      "cell_type": "code",
      "metadata": {
        "id": "TrkD4he4uVYV",
        "colab_type": "code",
        "colab": {}
      },
      "source": [
        ""
      ],
      "execution_count": 0,
      "outputs": []
    },
    {
      "cell_type": "code",
      "metadata": {
        "id": "c2upbhw3uVa2",
        "colab_type": "code",
        "colab": {}
      },
      "source": [
        ""
      ],
      "execution_count": 0,
      "outputs": []
    },
    {
      "cell_type": "code",
      "metadata": {
        "id": "MH0GinENuVdc",
        "colab_type": "code",
        "colab": {}
      },
      "source": [
        ""
      ],
      "execution_count": 0,
      "outputs": []
    },
    {
      "cell_type": "code",
      "metadata": {
        "id": "yWiF1rzcuVf2",
        "colab_type": "code",
        "colab": {}
      },
      "source": [
        ""
      ],
      "execution_count": 0,
      "outputs": []
    },
    {
      "cell_type": "code",
      "metadata": {
        "id": "hdYzzxA0uVib",
        "colab_type": "code",
        "colab": {}
      },
      "source": [
        ""
      ],
      "execution_count": 0,
      "outputs": []
    },
    {
      "cell_type": "code",
      "metadata": {
        "id": "wc2MhN72uVk9",
        "colab_type": "code",
        "colab": {}
      },
      "source": [
        ""
      ],
      "execution_count": 0,
      "outputs": []
    }
  ]
}